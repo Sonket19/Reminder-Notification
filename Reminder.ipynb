{
 "cells": [
  {
   "cell_type": "code",
   "execution_count": null,
   "id": "1be12fa9",
   "metadata": {
    "scrolled": true
   },
   "outputs": [],
   "source": [
    "from plyer import notification\n",
    "import time\n",
    "\n",
    "def notifyMe(title, message):\n",
    "    notification.notify(\n",
    "        title = title,\n",
    "        message = message,\n",
    "        app_icon = \"D:\\\\Python DS Udemy\\\\Reminder Notification\\\\abc.ico\",\n",
    "        timeout = 2\n",
    "    )\n",
    "\n",
    "if __name__=='__main__':\n",
    "    while True:    \n",
    "        notifyMe(\"Hy Sonket\",\"Water time!!! Relax your eyes!\")\n",
    "        time.sleep(15)\n"
   ]
  }
 ],
 "metadata": {
  "kernelspec": {
   "display_name": "Python 3",
   "language": "python",
   "name": "python3"
  },
  "language_info": {
   "codemirror_mode": {
    "name": "ipython",
    "version": 3
   },
   "file_extension": ".py",
   "mimetype": "text/x-python",
   "name": "python",
   "nbconvert_exporter": "python",
   "pygments_lexer": "ipython3",
   "version": "3.8.8"
  }
 },
 "nbformat": 4,
 "nbformat_minor": 5
}
